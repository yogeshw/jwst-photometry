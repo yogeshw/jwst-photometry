{
 "cells": [
  {
   "cell_type": "markdown",
   "id": "a54c5a44",
   "metadata": {},
   "source": [
    "# JWST Photometry: Example Usage based on TASKS.md\n",
    "This notebook follows the repository’s TASKS.md to demonstrate example usage with the provided sample images. It builds a minimal config, runs the orchestrator in dry-run, and optionally runs the full pipeline."
   ]
  },
  {
   "cell_type": "code",
   "execution_count": null,
   "id": "1b830191",
   "metadata": {},
   "outputs": [],
   "source": [
    "# Section 1: Load Dependencies and Configure Paths\n",
    "import os, sys, json, time, io, subprocess, random\n",
    "from pathlib import Path\n",
    "from typing import List, Dict, Any\n",
    "import numpy as np\n",
    "random.seed(42); np.random.seed(42)\n",
    "repo_root = Path.cwd()\n",
    "tasks_path = repo_root / 'TASKS.md'\n",
    "images_dir = repo_root / 'sample_images'\n",
    "nb_outputs = repo_root / 'output' / 'notebook_examples'\n",
    "nb_outputs.mkdir(parents=True, exist_ok=True)\n",
    "sys.path.append(str(repo_root / 'src'))\n",
    "print('Repo:', repo_root)\n",
    "print('TASKS.md:', tasks_path.exists())\n",
    "print('Images dir:', images_dir)\n",
    "print('Notebook outputs:', nb_outputs)"
   ]
  },
  {
   "cell_type": "code",
   "execution_count": null,
   "id": "62daace4",
   "metadata": {},
   "outputs": [],
   "source": [
    "# Section 2: Validate sample_images and TASKS.md\n",
    "assert tasks_path.exists(), 'TASKS.md not found'\n",
    "assert images_dir.exists(), 'sample_images not found'\n",
    "img_exts = ['.fits', '.fits.gz', '.fit', '.fz']\n",
    "images = sorted([p for p in images_dir.iterdir() if p.suffix.lower() in img_exts or ''.join(p.suffixes).lower().endswith('.fits.gz')])\n",
    "assert images, 'No FITS images found in sample_images'\n",
    "print('Found images:')\n",
    "for p in images:\n",
    "    print(' -', p.name)"
   ]
  },
  {
   "cell_type": "code",
   "execution_count": null,
   "id": "f17b9ae8",
   "metadata": {},
   "outputs": [],
   "source": [
    "# Section 3: Generate minimal config.yaml (F150W, F277W, F444W)\n",
    "run_dir = nb_outputs / 'tasks_run1'\n",
    "run_dir.mkdir(parents=True, exist_ok=True)\n",
    "def pick(name_part: str) -> Path:\n",
    "    for p in images:\n",
    "        if name_part.lower() in p.name.lower():\n",
    "            return p\n",
    "    return images[0]\n",
    "cfg_path = run_dir / 'config.yaml'\n",
    "cfg = f'''\\nimages:\\n  F150W: {pick('F150W')}\\n  F277W: {pick('F277W')}\\n  F444W: {pick('F444W')}\\noutput:\\n  output_directory: {str(run_dir)}\\n  catalog_format: fits\\n'''\n",
    "cfg_path.write_text(cfg)\n",
    "print('Wrote config:', cfg_path)"
   ]
  },
  {
   "cell_type": "code",
   "execution_count": null,
   "id": "2d65358c",
   "metadata": {},
   "outputs": [],
   "source": [
    "# Section 4: Orchestrator Dry-Run with Checkpoints (per TASKS Phase 7)\n",
    "from pipeline import Pipeline\n",
    "p = Pipeline(config_path=str(cfg_path))\n",
    "p.reset()\n",
    "p.run(resume=True)\n",
    "print('Steps completed:', p.state.steps_completed)"
   ]
  },
  {
   "cell_type": "markdown",
   "id": "c6eff8fe",
   "metadata": {},
   "source": [
    "## Optional: Full Pipeline Execution (from TASKS Phase 1–6)\n",
    "Run the enhanced pipeline over the sample images. This requires all dependencies and may take time."
   ]
  },
  {
   "cell_type": "code",
   "execution_count": null,
   "id": "bed79328",
   "metadata": {},
   "outputs": [],
   "source": [
    "# Uncomment to run full pipeline if environment is set up\n",
    "# cmd = f\"python {repo_root/'src'/'main.py'} --config {cfg_path} --log-level INFO\"\n",
    "# print(cmd)\n",
    "# res = subprocess.run(['/bin/bash','-lc', cmd], text=True)\n",
    "# print('Return code:', res.returncode)"
   ]
  }
 ],
 "metadata": {
  "language_info": {
   "name": "python"
  }
 },
 "nbformat": 4,
 "nbformat_minor": 5
}
